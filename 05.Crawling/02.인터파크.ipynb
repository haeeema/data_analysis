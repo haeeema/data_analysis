{
 "cells": [
  {
   "cell_type": "markdown",
   "metadata": {},
   "source": [
    "### 인터파크 - 베스트셀러"
   ]
  },
  {
   "cell_type": "code",
   "execution_count": 68,
   "metadata": {},
   "outputs": [],
   "source": [
    "import requests\n",
    "import pandas as pd\n",
    "from bs4 import BeautifulSoup"
   ]
  },
  {
   "cell_type": "markdown",
   "metadata": {},
   "source": [
    "- Step 1) 사이트에 접속하고 HTML 데이터를 가져와 파싱"
   ]
  },
  {
   "cell_type": "code",
   "execution_count": 69,
   "metadata": {},
   "outputs": [],
   "source": [
    "url = \"http://book.interpark.com/display/collectlist.do?_method=bestsellerHourNew&bookblockname=b_gnb&booklinkname=%BA%A3%BD%BA%C6%AE%C1%B8&bid1=bgnb_mn&bid2=LiveRanking&bid3=main&bid4=001\"\n",
    "res = requests.get(url)"
   ]
  },
  {
   "cell_type": "markdown",
   "metadata": {},
   "source": [
    "- Step 2) 원하는 데이터 찾기"
   ]
  },
  {
   "cell_type": "code",
   "execution_count": 70,
   "metadata": {},
   "outputs": [
    {
     "data": {
      "text/plain": [
       "15"
      ]
     },
     "execution_count": 70,
     "metadata": {},
     "output_type": "execute_result"
    }
   ],
   "source": [
    "soup = BeautifulSoup(res.text, \"html.parser\")\n",
    "lis = soup.select(\".rankBestContentList > ol > li\")\n",
    "len(lis)"
   ]
  },
  {
   "cell_type": "markdown",
   "metadata": {},
   "source": [
    "- Step 3) 하나를 선택해서 원하는 정보 추출"
   ]
  },
  {
   "cell_type": "code",
   "execution_count": 71,
   "metadata": {},
   "outputs": [],
   "source": [
    "li = lis[0]"
   ]
  },
  {
   "cell_type": "code",
   "execution_count": 72,
   "metadata": {},
   "outputs": [
    {
     "data": {
      "text/plain": [
       "'디케의 눈물'"
      ]
     },
     "execution_count": 72,
     "metadata": {},
     "output_type": "execute_result"
    }
   ],
   "source": [
    "# 책 제목\n",
    "title = li.select_one('.itemName').get_text().strip()\n",
    "title"
   ]
  },
  {
   "cell_type": "code",
   "execution_count": 73,
   "metadata": {},
   "outputs": [
    {
     "data": {
      "text/plain": [
       "'조국'"
      ]
     },
     "execution_count": 73,
     "metadata": {},
     "output_type": "execute_result"
    }
   ],
   "source": [
    "# 저자\n",
    "author = li.select_one('.author').get_text().strip()\n",
    "author"
   ]
  },
  {
   "cell_type": "code",
   "execution_count": 74,
   "metadata": {},
   "outputs": [
    {
     "data": {
      "text/plain": [
       "'다산북스'"
      ]
     },
     "execution_count": 74,
     "metadata": {},
     "output_type": "execute_result"
    }
   ],
   "source": [
    "# company\n",
    "company = li.select_one('.company').get_text().strip()\n",
    "company"
   ]
  },
  {
   "cell_type": "code",
   "execution_count": 75,
   "metadata": {},
   "outputs": [
    {
     "data": {
      "text/plain": [
       "16920"
      ]
     },
     "execution_count": 75,
     "metadata": {},
     "output_type": "execute_result"
    }
   ],
   "source": [
    "# price\n",
    "price = int(li.select_one('.price > em').get_text().strip().replace(',', ''))\n",
    "price"
   ]
  },
  {
   "cell_type": "code",
   "execution_count": 76,
   "metadata": {},
   "outputs": [
    {
     "data": {
      "text/plain": [
       "1"
      ]
     },
     "execution_count": 76,
     "metadata": {},
     "output_type": "execute_result"
    }
   ],
   "source": [
    "\n",
    "rank = ''\n",
    "for i in range(len(li.select('.rankNumber > .rankBtn_ctrl'))):\n",
    "    rank += li.select('.rankNumber > .rankBtn_ctrl')[i]['class'][1][8:]\n",
    "rank = int(rank)\n",
    "rank\n"
   ]
  },
  {
   "cell_type": "markdown",
   "metadata": {},
   "source": [
    "- Step 4) 반복문을 사용하여 페이지 내에 있는 데이터 가져오기"
   ]
  },
  {
   "cell_type": "code",
   "execution_count": 78,
   "metadata": {},
   "outputs": [
    {
     "data": {
      "text/plain": [
       "[{'제목': '디케의 눈물', '저자': '조국', '출판사': '다산북스', '가격': 16920, '순위': 1},\n",
       " {'제목': '도시와 그 불확실한 벽',\n",
       "  '저자': '무라카미 하루키(村上春樹)',\n",
       "  '출판사': '문학동네',\n",
       "  '가격': 17550,\n",
       "  '순위': 2},\n",
       " {'제목': '퓨처 셀프', '저자': '벤저민 하디/최은아 역', '출판사': '상상스퀘어', '가격': 17820, '순위': 3},\n",
       " {'제목': '1%를 읽는 힘', '저자': '메르', '출판사': '토네이도', '가격': 19800, '순위': 4},\n",
       " {'제목': '흔한남매 14',\n",
       "  '저자': '흔한남매, 백난도/유난희 그림/흔한컴퍼니 감수',\n",
       "  '출판사': '미래엔아이세움',\n",
       "  '가격': 13050,\n",
       "  '순위': 5},\n",
       " {'제목': '일론 머스크', '저자': '월터 아이작슨', '출판사': '21세기북스', '가격': 34200, '순위': 6},\n",
       " {'제목': '가짜 노동',\n",
       "  '저자': '데니스 뇌르마르크, 아네르스 포그 옌센/이수영 역',\n",
       "  '출판사': '자음과모음',\n",
       "  '가격': 15120,\n",
       "  '순위': 6},\n",
       " {'제목': '세이노의 가르침', '저자': '세이노', '출판사': '데이원', '가격': 6480, '순위': 8},\n",
       " {'제목': '트렌드 코리아 2024',\n",
       "  '저자': '김난도, 추예린, 전다현, 전미영, 최지혜',\n",
       "  '출판사': '미래의창',\n",
       "  '가격': 17100,\n",
       "  '순위': 9},\n",
       " {'제목': '완전배출', '저자': '조승우', '출판사': '사이몬북스', '가격': 17100, '순위': 10},\n",
       " {'제목': '쩐의 흐름을 타라', '저자': '', '출판사': '에디터', '가격': 16200, '순위': 10},\n",
       " {'제목': '딸이 조용히 무너져 있었다', '저자': '김현아', '출판사': '창비', '가격': 16200, '순위': 12},\n",
       " {'제목': '래리 윌리엄스 좋은 주식은 때가 있다',\n",
       "  '저자': '래리 윌리엄스/김태훈 역/강환국 감수',\n",
       "  '출판사': '페이지2북스',\n",
       "  '가격': 16200,\n",
       "  '순위': 12},\n",
       " {'제목': '슈퍼노멀', '저자': '주언규', '출판사': '웅진지식하우스', '가격': 17550, '순위': 14},\n",
       " {'제목': '역행자(확장판)', '저자': '자청', '출판사': '웅진지식하우스', '가격': 17550, '순위': 14}]"
      ]
     },
     "execution_count": 78,
     "metadata": {},
     "output_type": "execute_result"
    }
   ],
   "source": [
    "data = []\n",
    "for li in lis:\n",
    "    title = li.select_one('.itemName').get_text().strip()\n",
    "    author = li.select_one('.author').get_text().strip()\n",
    "    company = li.select_one('.company').get_text().strip()\n",
    "    price = int(li.select_one('.price > em').get_text().strip().replace(',', ''))\n",
    "    rank = ''\n",
    "    for i in range(len(li.select('.rankNumber > .rankBtn_ctrl'))):\n",
    "        rank += li.select('.rankNumber > .rankBtn_ctrl')[i]['class'][1][8:]\n",
    "    rank = int(rank)\n",
    "    data.append({'제목': title, '저자': author, '출판사': company, '가격': price, '순위': rank})\n",
    "\n",
    "data"
   ]
  },
  {
   "cell_type": "markdown",
   "metadata": {},
   "source": [
    "- Step 5) 오류가 발생하면 오류를 해결하고 2, 3, 4 과정을 반복"
   ]
  },
  {
   "cell_type": "markdown",
   "metadata": {},
   "source": [
    "- Step 6) 모든 페이지에 대해 반복하기"
   ]
  },
  {
   "cell_type": "markdown",
   "metadata": {},
   "source": [
    "- Step7 7) 데이터프레임으로 만들기"
   ]
  },
  {
   "cell_type": "code",
   "execution_count": 79,
   "metadata": {},
   "outputs": [
    {
     "data": {
      "text/html": [
       "<div>\n",
       "<style scoped>\n",
       "    .dataframe tbody tr th:only-of-type {\n",
       "        vertical-align: middle;\n",
       "    }\n",
       "\n",
       "    .dataframe tbody tr th {\n",
       "        vertical-align: top;\n",
       "    }\n",
       "\n",
       "    .dataframe thead th {\n",
       "        text-align: right;\n",
       "    }\n",
       "</style>\n",
       "<table border=\"1\" class=\"dataframe\">\n",
       "  <thead>\n",
       "    <tr style=\"text-align: right;\">\n",
       "      <th></th>\n",
       "      <th>제목</th>\n",
       "      <th>저자</th>\n",
       "      <th>출판사</th>\n",
       "      <th>가격</th>\n",
       "      <th>순위</th>\n",
       "    </tr>\n",
       "  </thead>\n",
       "  <tbody>\n",
       "    <tr>\n",
       "      <th>0</th>\n",
       "      <td>디케의 눈물</td>\n",
       "      <td>조국</td>\n",
       "      <td>다산북스</td>\n",
       "      <td>16920</td>\n",
       "      <td>1</td>\n",
       "    </tr>\n",
       "    <tr>\n",
       "      <th>1</th>\n",
       "      <td>도시와 그 불확실한 벽</td>\n",
       "      <td>무라카미 하루키(村上春樹)</td>\n",
       "      <td>문학동네</td>\n",
       "      <td>17550</td>\n",
       "      <td>2</td>\n",
       "    </tr>\n",
       "    <tr>\n",
       "      <th>2</th>\n",
       "      <td>퓨처 셀프</td>\n",
       "      <td>벤저민 하디/최은아 역</td>\n",
       "      <td>상상스퀘어</td>\n",
       "      <td>17820</td>\n",
       "      <td>3</td>\n",
       "    </tr>\n",
       "    <tr>\n",
       "      <th>3</th>\n",
       "      <td>1%를 읽는 힘</td>\n",
       "      <td>메르</td>\n",
       "      <td>토네이도</td>\n",
       "      <td>19800</td>\n",
       "      <td>4</td>\n",
       "    </tr>\n",
       "    <tr>\n",
       "      <th>4</th>\n",
       "      <td>흔한남매 14</td>\n",
       "      <td>흔한남매, 백난도/유난희 그림/흔한컴퍼니 감수</td>\n",
       "      <td>미래엔아이세움</td>\n",
       "      <td>13050</td>\n",
       "      <td>5</td>\n",
       "    </tr>\n",
       "    <tr>\n",
       "      <th>5</th>\n",
       "      <td>일론 머스크</td>\n",
       "      <td>월터 아이작슨</td>\n",
       "      <td>21세기북스</td>\n",
       "      <td>34200</td>\n",
       "      <td>6</td>\n",
       "    </tr>\n",
       "    <tr>\n",
       "      <th>6</th>\n",
       "      <td>가짜 노동</td>\n",
       "      <td>데니스 뇌르마르크, 아네르스 포그 옌센/이수영 역</td>\n",
       "      <td>자음과모음</td>\n",
       "      <td>15120</td>\n",
       "      <td>6</td>\n",
       "    </tr>\n",
       "    <tr>\n",
       "      <th>7</th>\n",
       "      <td>세이노의 가르침</td>\n",
       "      <td>세이노</td>\n",
       "      <td>데이원</td>\n",
       "      <td>6480</td>\n",
       "      <td>8</td>\n",
       "    </tr>\n",
       "    <tr>\n",
       "      <th>8</th>\n",
       "      <td>트렌드 코리아 2024</td>\n",
       "      <td>김난도, 추예린, 전다현, 전미영, 최지혜</td>\n",
       "      <td>미래의창</td>\n",
       "      <td>17100</td>\n",
       "      <td>9</td>\n",
       "    </tr>\n",
       "    <tr>\n",
       "      <th>9</th>\n",
       "      <td>완전배출</td>\n",
       "      <td>조승우</td>\n",
       "      <td>사이몬북스</td>\n",
       "      <td>17100</td>\n",
       "      <td>10</td>\n",
       "    </tr>\n",
       "    <tr>\n",
       "      <th>10</th>\n",
       "      <td>쩐의 흐름을 타라</td>\n",
       "      <td></td>\n",
       "      <td>에디터</td>\n",
       "      <td>16200</td>\n",
       "      <td>10</td>\n",
       "    </tr>\n",
       "    <tr>\n",
       "      <th>11</th>\n",
       "      <td>딸이 조용히 무너져 있었다</td>\n",
       "      <td>김현아</td>\n",
       "      <td>창비</td>\n",
       "      <td>16200</td>\n",
       "      <td>12</td>\n",
       "    </tr>\n",
       "    <tr>\n",
       "      <th>12</th>\n",
       "      <td>래리 윌리엄스 좋은 주식은 때가 있다</td>\n",
       "      <td>래리 윌리엄스/김태훈 역/강환국 감수</td>\n",
       "      <td>페이지2북스</td>\n",
       "      <td>16200</td>\n",
       "      <td>12</td>\n",
       "    </tr>\n",
       "    <tr>\n",
       "      <th>13</th>\n",
       "      <td>슈퍼노멀</td>\n",
       "      <td>주언규</td>\n",
       "      <td>웅진지식하우스</td>\n",
       "      <td>17550</td>\n",
       "      <td>14</td>\n",
       "    </tr>\n",
       "    <tr>\n",
       "      <th>14</th>\n",
       "      <td>역행자(확장판)</td>\n",
       "      <td>자청</td>\n",
       "      <td>웅진지식하우스</td>\n",
       "      <td>17550</td>\n",
       "      <td>14</td>\n",
       "    </tr>\n",
       "  </tbody>\n",
       "</table>\n",
       "</div>"
      ],
      "text/plain": [
       "                      제목                           저자      출판사     가격  순위\n",
       "0                 디케의 눈물                           조국     다산북스  16920   1\n",
       "1           도시와 그 불확실한 벽               무라카미 하루키(村上春樹)     문학동네  17550   2\n",
       "2                  퓨처 셀프                 벤저민 하디/최은아 역    상상스퀘어  17820   3\n",
       "3               1%를 읽는 힘                           메르     토네이도  19800   4\n",
       "4                흔한남매 14    흔한남매, 백난도/유난희 그림/흔한컴퍼니 감수  미래엔아이세움  13050   5\n",
       "5                 일론 머스크                      월터 아이작슨   21세기북스  34200   6\n",
       "6                  가짜 노동  데니스 뇌르마르크, 아네르스 포그 옌센/이수영 역    자음과모음  15120   6\n",
       "7               세이노의 가르침                          세이노      데이원   6480   8\n",
       "8           트렌드 코리아 2024      김난도, 추예린, 전다현, 전미영, 최지혜     미래의창  17100   9\n",
       "9                   완전배출                          조승우    사이몬북스  17100  10\n",
       "10             쩐의 흐름을 타라                                   에디터  16200  10\n",
       "11        딸이 조용히 무너져 있었다                          김현아       창비  16200  12\n",
       "12  래리 윌리엄스 좋은 주식은 때가 있다         래리 윌리엄스/김태훈 역/강환국 감수   페이지2북스  16200  12\n",
       "13                  슈퍼노멀                          주언규  웅진지식하우스  17550  14\n",
       "14              역행자(확장판)                           자청  웅진지식하우스  17550  14"
      ]
     },
     "execution_count": 79,
     "metadata": {},
     "output_type": "execute_result"
    }
   ],
   "source": [
    "df = pd.DataFrame(data)\n",
    "df"
   ]
  }
 ],
 "metadata": {
  "kernelspec": {
   "display_name": "base",
   "language": "python",
   "name": "python3"
  },
  "language_info": {
   "codemirror_mode": {
    "name": "ipython",
    "version": 3
   },
   "file_extension": ".py",
   "mimetype": "text/x-python",
   "name": "python",
   "nbconvert_exporter": "python",
   "pygments_lexer": "ipython3",
   "version": "3.11.4"
  },
  "orig_nbformat": 4
 },
 "nbformat": 4,
 "nbformat_minor": 2
}
