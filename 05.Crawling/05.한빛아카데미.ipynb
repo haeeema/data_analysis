{
 "cells": [
  {
   "cell_type": "markdown",
   "metadata": {},
   "source": [
    "## 한빛아카데미 - 새로나온 책\n",
    "- https://www.hanbit.co.kr/academy/books/new_book_list.html?page=1 (메인)\n",
    "- https://www.hanbit.co.kr/academy/books/book_view.html?p_code=B3261280549 (서브)\n",
    "- a href='/academy/books/book_view.html?p_code=B3261280549' (알 수 있는 정보)\n",
    "- 제목, 저자, 출간일, 쪽수, 가격, 역자"
   ]
  },
  {
   "cell_type": "code",
   "execution_count": 12,
   "metadata": {},
   "outputs": [],
   "source": [
    "import requests\n",
    "import pandas as pd \n",
    "from tqdm import tqdm\n",
    "from bs4 import BeautifulSoup"
   ]
  },
  {
   "cell_type": "markdown",
   "metadata": {},
   "source": [
    "- Step 1"
   ]
  },
  {
   "cell_type": "code",
   "execution_count": 13,
   "metadata": {},
   "outputs": [],
   "source": [
    "base_url = 'https://www.hanbit.co.kr'\n",
    "main_url = '/academy/books/new_book_list.html'\n",
    "url = f'{base_url}{main_url}?page=1'\n",
    "res = requests.get(url)\n",
    "soup = BeautifulSoup(res.text, 'html.parser')"
   ]
  },
  {
   "cell_type": "markdown",
   "metadata": {},
   "source": [
    "- Step 2"
   ]
  },
  {
   "cell_type": "code",
   "execution_count": 14,
   "metadata": {},
   "outputs": [
    {
     "data": {
      "text/plain": [
       "20"
      ]
     },
     "execution_count": 14,
     "metadata": {},
     "output_type": "execute_result"
    }
   ],
   "source": [
    "lis = soup.select('.sub_book_list')\n",
    "len(lis)"
   ]
  },
  {
   "cell_type": "markdown",
   "metadata": {},
   "source": [
    "- Step 3"
   ]
  },
  {
   "cell_type": "code",
   "execution_count": 15,
   "metadata": {},
   "outputs": [
    {
     "data": {
      "text/plain": [
       "'/academy/books/book_view.html?p_code=B3261280549'"
      ]
     },
     "execution_count": 15,
     "metadata": {},
     "output_type": "execute_result"
    }
   ],
   "source": [
    "li = lis[0]\n",
    "sub_href = li.select_one('.book_tit > a')['href']\n",
    "sub_href"
   ]
  },
  {
   "cell_type": "markdown",
   "metadata": {},
   "source": [
    "- sub page에서 정보 추출"
   ]
  },
  {
   "cell_type": "code",
   "execution_count": 16,
   "metadata": {},
   "outputs": [],
   "source": [
    "sub_url = base_url + sub_href\n",
    "sub_res = requests.get(sub_url)\n",
    "sub_soup = BeautifulSoup(sub_res.text, 'html.parser')"
   ]
  },
  {
   "cell_type": "code",
   "execution_count": 17,
   "metadata": {},
   "outputs": [
    {
     "data": {
      "text/plain": [
       "'관리회계 7판'"
      ]
     },
     "execution_count": 17,
     "metadata": {},
     "output_type": "execute_result"
    }
   ],
   "source": [
    "title = sub_soup.select_one('.store_product_info_box > h3').get_text().strip()\n",
    "title"
   ]
  },
  {
   "cell_type": "code",
   "execution_count": 18,
   "metadata": {},
   "outputs": [
    {
     "data": {
      "text/plain": [
       "{'저자': 'James Jiambalvo',\n",
       " '번역': '손성진',\n",
       " '출간': '2023-09-01',\n",
       " '페이지': '572 쪽',\n",
       " 'ISBN': '9791156646761',\n",
       " '물류코드': '4676'}"
      ]
     },
     "execution_count": 18,
     "metadata": {},
     "output_type": "execute_result"
    }
   ],
   "source": [
    "# 책 정보의 딕셔너리 생성\n",
    "sub_lis = sub_soup.select('.info_list > li')\n",
    "info_dict = {}\n",
    "for sub_li in sub_lis[:-1]:\n",
    "    key = sub_li.find('strong').get_text().strip()\n",
    "    value = sub_li.find('span').get_text().strip()\n",
    "    info_dict[key[:-2]] = value\n",
    "info_dict"
   ]
  },
  {
   "cell_type": "code",
   "execution_count": 19,
   "metadata": {},
   "outputs": [
    {
     "data": {
      "text/plain": [
       "36000"
      ]
     },
     "execution_count": 19,
     "metadata": {},
     "output_type": "execute_result"
    }
   ],
   "source": [
    "price = int(sub_soup.select_one('.pbr > strong').string.replace(',',''))\n",
    "price"
   ]
  },
  {
   "cell_type": "code",
   "execution_count": 20,
   "metadata": {},
   "outputs": [
    {
     "data": {
      "text/plain": [
       "False"
      ]
     },
     "execution_count": 20,
     "metadata": {},
     "output_type": "execute_result"
    }
   ],
   "source": [
    "'a' in info_dict.keys()"
   ]
  },
  {
   "cell_type": "markdown",
   "metadata": {},
   "source": [
    "- Step 4."
   ]
  },
  {
   "cell_type": "code",
   "execution_count": 21,
   "metadata": {},
   "outputs": [
    {
     "name": "stderr",
     "output_type": "stream",
     "text": [
      "100%|██████████| 23/23 [02:02<00:00,  5.31s/it]\n"
     ]
    }
   ],
   "source": [
    "data = []\n",
    "for page in tqdm(range(1, 24)):\n",
    "    url = f'{base_url}{main_url}?page={page}'\n",
    "    res = requests.get(url)\n",
    "    soup = BeautifulSoup(res.text, 'html.parser')\n",
    "    lis = soup.select('.sub_book_list')\n",
    "    for li in lis:\n",
    "        sub_href = li.select_one('.book_tit > a')['href']\n",
    "        sub_url = base_url + sub_href\n",
    "        sub_res = requests.get(sub_url)\n",
    "        sub_soup = BeautifulSoup(sub_res.text, 'html.parser')\n",
    "        \n",
    "        title = sub_soup.select_one('.store_product_info_box > h3').get_text().strip()\n",
    "        sub_lis = sub_soup.select('.info_list > li')\n",
    "        info_dict = {}\n",
    "        for sub_li in sub_lis[:-1]:\n",
    "            key = sub_li.find('strong').get_text().strip()\n",
    "            value = sub_li.find('span').get_text().strip()\n",
    "            info_dict[key[:-2]] = value\n",
    "        price = int(sub_soup.select_one('.pbr > strong').string.replace(',',''))\n",
    "        \n",
    "        author = info_dict['저자']\n",
    "        translator = info_dict['번역'] if '번역' in info_dict.keys() else ' '\n",
    "        date = info_dict['출간']\n",
    "        page = int(info_dict['페이지'][:-2])\n",
    "\n",
    "        data.append({'제목':title, '저자':author, '역자':translator, '출간일':date,\n",
    "                    '페이지수':page, '가격':price})"
   ]
  },
  {
   "cell_type": "code",
   "execution_count": 22,
   "metadata": {},
   "outputs": [
    {
     "data": {
      "text/html": [
       "<div>\n",
       "<style scoped>\n",
       "    .dataframe tbody tr th:only-of-type {\n",
       "        vertical-align: middle;\n",
       "    }\n",
       "\n",
       "    .dataframe tbody tr th {\n",
       "        vertical-align: top;\n",
       "    }\n",
       "\n",
       "    .dataframe thead th {\n",
       "        text-align: right;\n",
       "    }\n",
       "</style>\n",
       "<table border=\"1\" class=\"dataframe\">\n",
       "  <thead>\n",
       "    <tr style=\"text-align: right;\">\n",
       "      <th></th>\n",
       "      <th>제목</th>\n",
       "      <th>저자</th>\n",
       "      <th>역자</th>\n",
       "      <th>출간일</th>\n",
       "      <th>페이지수</th>\n",
       "      <th>가격</th>\n",
       "    </tr>\n",
       "  </thead>\n",
       "  <tbody>\n",
       "    <tr>\n",
       "      <th>448</th>\n",
       "      <td>문제해결력을 키우는 이공계 글쓰기 : 발표와 토론까지</td>\n",
       "      <td>한성우</td>\n",
       "      <td></td>\n",
       "      <td>2013-02-28</td>\n",
       "      <td>396</td>\n",
       "      <td>18000</td>\n",
       "    </tr>\n",
       "    <tr>\n",
       "      <th>449</th>\n",
       "      <td>Essential Calculus</td>\n",
       "      <td>James Stewart</td>\n",
       "      <td></td>\n",
       "      <td>2012-07-08</td>\n",
       "      <td>960</td>\n",
       "      <td>36000</td>\n",
       "    </tr>\n",
       "    <tr>\n",
       "      <th>450</th>\n",
       "      <td>의사결정회계</td>\n",
       "      <td>정재권</td>\n",
       "      <td></td>\n",
       "      <td>2011-08-25</td>\n",
       "      <td>506</td>\n",
       "      <td>28000</td>\n",
       "    </tr>\n",
       "    <tr>\n",
       "      <th>451</th>\n",
       "      <td>IT CookBook, 디지털 통신 시스템 : Digital Communicatio...</td>\n",
       "      <td>정호영 , 임승각</td>\n",
       "      <td></td>\n",
       "      <td>2011-01-31</td>\n",
       "      <td>576</td>\n",
       "      <td>25000</td>\n",
       "    </tr>\n",
       "    <tr>\n",
       "      <th>452</th>\n",
       "      <td>인간관계론</td>\n",
       "      <td>유기현 , 송병선 , 권용만</td>\n",
       "      <td></td>\n",
       "      <td>2008-09-15</td>\n",
       "      <td>415</td>\n",
       "      <td>25000</td>\n",
       "    </tr>\n",
       "  </tbody>\n",
       "</table>\n",
       "</div>"
      ],
      "text/plain": [
       "                                                    제목               저자 역자  \\\n",
       "448                      문제해결력을 키우는 이공계 글쓰기 : 발표와 토론까지              한성우      \n",
       "449                                 Essential Calculus    James Stewart      \n",
       "450                                             의사결정회계              정재권      \n",
       "451  IT CookBook, 디지털 통신 시스템 : Digital Communicatio...        정호영 , 임승각      \n",
       "452                                              인간관계론  유기현 , 송병선 , 권용만      \n",
       "\n",
       "            출간일  페이지수     가격  \n",
       "448  2013-02-28   396  18000  \n",
       "449  2012-07-08   960  36000  \n",
       "450  2011-08-25   506  28000  \n",
       "451  2011-01-31   576  25000  \n",
       "452  2008-09-15   415  25000  "
      ]
     },
     "execution_count": 22,
     "metadata": {},
     "output_type": "execute_result"
    }
   ],
   "source": [
    "df = pd.DataFrame(data)\n",
    "df.tail()"
   ]
  }
 ],
 "metadata": {
  "kernelspec": {
   "display_name": "base",
   "language": "python",
   "name": "python3"
  },
  "language_info": {
   "codemirror_mode": {
    "name": "ipython",
    "version": 3
   },
   "file_extension": ".py",
   "mimetype": "text/x-python",
   "name": "python",
   "nbconvert_exporter": "python",
   "pygments_lexer": "ipython3",
   "version": "3.11.4"
  },
  "orig_nbformat": 4
 },
 "nbformat": 4,
 "nbformat_minor": 2
}
