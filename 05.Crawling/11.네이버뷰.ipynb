{
 "cells": [
  {
   "cell_type": "markdown",
   "metadata": {},
   "source": [
    "### 네이버 검색 결과 크롤링\n",
    "- 영등포역 맛집\n",
    "- Selenium 이용"
   ]
  },
  {
   "cell_type": "code",
   "execution_count": 28,
   "metadata": {},
   "outputs": [],
   "source": [
    "import requests\n",
    "import pandas as pd\n",
    "from bs4 import BeautifulSoup\n",
    "from urllib.parse import quote"
   ]
  },
  {
   "cell_type": "markdown",
   "metadata": {},
   "source": [
    "- requests.get()으로 데이터를 가져오는 경우"
   ]
  },
  {
   "cell_type": "code",
   "execution_count": 29,
   "metadata": {},
   "outputs": [],
   "source": [
    "base_url = 'https://search.naver.com/search.naver?where=view&sm=tab_jum'\n",
    "url = f'{base_url}&query={quote(\"영등포역 맛집\")}'\n",
    "res =requests.get(url)\n",
    "soup = BeautifulSoup(res.text)"
   ]
  },
  {
   "cell_type": "code",
   "execution_count": 30,
   "metadata": {},
   "outputs": [
    {
     "data": {
      "text/plain": [
       "30"
      ]
     },
     "execution_count": 30,
     "metadata": {},
     "output_type": "execute_result"
    }
   ],
   "source": [
    "lis = soup.select('.bx._svp_item')\n",
    "len(lis)"
   ]
  },
  {
   "cell_type": "markdown",
   "metadata": {},
   "source": [
    "- Selenium 이용해서 데이터를 가져오는 경우"
   ]
  },
  {
   "cell_type": "code",
   "execution_count": 31,
   "metadata": {},
   "outputs": [],
   "source": [
    "from selenium import webdriver\n",
    "\n",
    "driver = webdriver.Chrome()\n",
    "driver.get(url)"
   ]
  },
  {
   "cell_type": "code",
   "execution_count": 32,
   "metadata": {},
   "outputs": [],
   "source": [
    "# View 페이지를 아래로 내려서 많은 데이터 확보\n",
    "from selenium.webdriver.common.by import By\n",
    "from selenium.webdriver.common.keys import Keys\n",
    "import time\n",
    "\n",
    "body = driver.find_element(By.TAG_NAME, 'body')\n",
    "for _ in range(30):\n",
    "    body.send_keys(Keys.PAGE_DOWN)\n",
    "    time.sleep(1)"
   ]
  },
  {
   "cell_type": "code",
   "execution_count": 33,
   "metadata": {},
   "outputs": [
    {
     "data": {
      "text/plain": [
       "110"
      ]
     },
     "execution_count": 33,
     "metadata": {},
     "output_type": "execute_result"
    }
   ],
   "source": [
    "soup = BeautifulSoup(driver.page_source)\n",
    "lis = soup.select('.bx._svp_item')\n",
    "len(lis)"
   ]
  },
  {
   "cell_type": "code",
   "execution_count": 34,
   "metadata": {},
   "outputs": [],
   "source": [
    "driver.close()"
   ]
  },
  {
   "cell_type": "markdown",
   "metadata": {},
   "source": [
    "- 날짜, 제목, 내용 크롤링"
   ]
  },
  {
   "cell_type": "code",
   "execution_count": 35,
   "metadata": {},
   "outputs": [
    {
     "data": {
      "text/plain": [
       "'영등포역 맛집영등갈비 미묘하게 매력적인 고기집'"
      ]
     },
     "execution_count": 35,
     "metadata": {},
     "output_type": "execute_result"
    }
   ],
   "source": [
    "li = lis[0]\n",
    "title = li.select_one('.api_txt_lines.total_tit._cross_trigger').get_text(strip=True)\n",
    "title"
   ]
  },
  {
   "cell_type": "code",
   "execution_count": 36,
   "metadata": {},
   "outputs": [
    {
     "data": {
      "text/plain": [
       "'최근에영등포역 맛집영등갈비 방문 후 포스팅 해봅니다 난생 처음 먹어본 색다른 갈비 였네요 영등포역... 서울 영등포구 영신로 19번길 1 영업시간: 오후 12시 - 밤 10시 브레이크타임: 오후 2시 - 오후 4시 (평일) 연락처: 0507...'"
      ]
     },
     "execution_count": 36,
     "metadata": {},
     "output_type": "execute_result"
    }
   ],
   "source": [
    "content = li.select_one('.api_txt_lines.dsc_txt').get_text(strip=True)\n",
    "content[:200]"
   ]
  },
  {
   "cell_type": "markdown",
   "metadata": {},
   "source": [
    "- 시간"
   ]
  },
  {
   "cell_type": "code",
   "execution_count": 37,
   "metadata": {},
   "outputs": [
    {
     "data": {
      "text/plain": [
       "'2023.08.28.'"
      ]
     },
     "execution_count": 37,
     "metadata": {},
     "output_type": "execute_result"
    }
   ],
   "source": [
    "date = li.select_one('.sub_time.sub_txt').get_text().strip()\n",
    "date"
   ]
  },
  {
   "cell_type": "code",
   "execution_count": 42,
   "metadata": {},
   "outputs": [
    {
     "data": {
      "text/plain": [
       "datetime.datetime(2023, 9, 18, 15, 18, 22, 452847)"
      ]
     },
     "execution_count": 42,
     "metadata": {},
     "output_type": "execute_result"
    }
   ],
   "source": [
    "from datetime import datetime, timedelta\n",
    "\n",
    "now = datetime.now()\n",
    "now"
   ]
  },
  {
   "cell_type": "code",
   "execution_count": 45,
   "metadata": {},
   "outputs": [
    {
     "data": {
      "text/plain": [
       "'2023.09.17'"
      ]
     },
     "execution_count": 45,
     "metadata": {},
     "output_type": "execute_result"
    }
   ],
   "source": [
    "# 어제\n",
    "date = now - timedelta(1)\n",
    "f'{date.year}.{date.month:02d}.{date.day:02d}'"
   ]
  },
  {
   "cell_type": "code",
   "execution_count": 46,
   "metadata": {},
   "outputs": [
    {
     "data": {
      "text/plain": [
       "'2023.09.16'"
      ]
     },
     "execution_count": 46,
     "metadata": {},
     "output_type": "execute_result"
    }
   ],
   "source": [
    "# 2일 전\n",
    "date = now - timedelta(2)\n",
    "date.strftime('%Y.%m.%d')"
   ]
  },
  {
   "cell_type": "code",
   "execution_count": 47,
   "metadata": {},
   "outputs": [
    {
     "data": {
      "text/plain": [
       "'2023.09.17'"
      ]
     },
     "execution_count": 47,
     "metadata": {},
     "output_type": "execute_result"
    }
   ],
   "source": [
    "# 23시간 전\n",
    "date = now - timedelta(hours=23)\n",
    "date.strftime('%Y.%m.%d')"
   ]
  },
  {
   "cell_type": "code",
   "execution_count": 49,
   "metadata": {},
   "outputs": [
    {
     "data": {
      "text/plain": [
       "'2023.09.18'"
      ]
     },
     "execution_count": 49,
     "metadata": {},
     "output_type": "execute_result"
    }
   ],
   "source": [
    "# 40분 전\n",
    "date = now - timedelta(minutes=40)\n",
    "date.strftime('%Y.%m.%d')"
   ]
  },
  {
   "cell_type": "code",
   "execution_count": 50,
   "metadata": {},
   "outputs": [],
   "source": [
    "def convert_date(s):\n",
    "    if len(s) == 11:    # '2023.09.18'\n",
    "        return s[:-1]\n",
    "\n",
    "    now = datetime.now()\n",
    "    if '어제' in s:\n",
    "        date = now - timedelta(1)\n",
    "    elif '일' in s:\n",
    "        date = now - timedelta(int(s[0]))\n",
    "    elif '시간' in s: \n",
    "        date = now - timedelta(hours=int(s[:-4]))\n",
    "    elif '분' in s:\n",
    "        date = now - timedelta(minutes=int(s[:-3]))\n",
    "    \n",
    "    return date.strftime('%Y.%m.%d')"
   ]
  },
  {
   "cell_type": "markdown",
   "metadata": {},
   "source": [
    "- Step 4"
   ]
  },
  {
   "cell_type": "code",
   "execution_count": 51,
   "metadata": {},
   "outputs": [],
   "source": [
    "data = []\n",
    "for li in lis:\n",
    "    date = convert_date(li.select_one('.sub_time.sub_txt').get_text().strip())\n",
    "    title = li.select_one('.api_txt_lines.total_tit._cross_trigger').get_text(strip=True)\n",
    "    content = li.select_one('.api_txt_lines.dsc_txt').get_text(strip=True)\n",
    "    data.append({'날짜': date, '제목': title, '내용': content})"
   ]
  },
  {
   "cell_type": "code",
   "execution_count": 52,
   "metadata": {},
   "outputs": [
    {
     "data": {
      "text/html": [
       "<div>\n",
       "<style scoped>\n",
       "    .dataframe tbody tr th:only-of-type {\n",
       "        vertical-align: middle;\n",
       "    }\n",
       "\n",
       "    .dataframe tbody tr th {\n",
       "        vertical-align: top;\n",
       "    }\n",
       "\n",
       "    .dataframe thead th {\n",
       "        text-align: right;\n",
       "    }\n",
       "</style>\n",
       "<table border=\"1\" class=\"dataframe\">\n",
       "  <thead>\n",
       "    <tr style=\"text-align: right;\">\n",
       "      <th></th>\n",
       "      <th>날짜</th>\n",
       "      <th>제목</th>\n",
       "      <th>내용</th>\n",
       "    </tr>\n",
       "  </thead>\n",
       "  <tbody>\n",
       "    <tr>\n",
       "      <th>105</th>\n",
       "      <td>2023.09.10</td>\n",
       "      <td>[음식점리뷰]영등포역 맛집교촌치킨에서 맛있는 치킨 먹어볼까요?</td>\n",
       "      <td>그래서 퇴근하자마자 집 근처에 있는영등포역 맛집교촌치킨으로 직행했다. 저번에 테이크...</td>\n",
       "    </tr>\n",
       "    <tr>\n",
       "      <th>106</th>\n",
       "      <td>2023.09.06</td>\n",
       "      <td>영등포역인근맛집추천해주세요!!!!</td>\n",
       "      <td>영등포역인근맛집추천해주세요!!!!</td>\n",
       "    </tr>\n",
       "    <tr>\n",
       "      <th>107</th>\n",
       "      <td>2023.09.18</td>\n",
       "      <td>영등포역맛집이고집쭈꾸미 여전히맛있어 최고야</td>\n",
       "      <td>이고집쭈꾸미 본점 #영등포역맛집#영등포맛집 #이고집쭈꾸미 #영등포쭈꾸미 친구들이랑 ...</td>\n",
       "    </tr>\n",
       "    <tr>\n",
       "      <th>108</th>\n",
       "      <td>2023.04.03</td>\n",
       "      <td>꽃구경 코스로 좋은영등포역 맛집광부맥주</td>\n",
       "      <td>꽃구경 코스로 좋은영등포역 맛집광부맥주 주말에 집에있다가 날씨가 너무 좋아서 당장 ...</td>\n",
       "    </tr>\n",
       "    <tr>\n",
       "      <th>109</th>\n",
       "      <td>2023.04.05</td>\n",
       "      <td>영등포역한식식당배달전문 음식점 주방담당 및 보조 직원 &amp; 포장 알바직원 구인합니다.</td>\n",
       "      <td>영등포역5분거리에 있는 한식배달식당에서 직원 및 포장 직원 구인합니다. ■ 주5일 ...</td>\n",
       "    </tr>\n",
       "  </tbody>\n",
       "</table>\n",
       "</div>"
      ],
      "text/plain": [
       "             날짜                                              제목  \\\n",
       "105  2023.09.10              [음식점리뷰]영등포역 맛집교촌치킨에서 맛있는 치킨 먹어볼까요?   \n",
       "106  2023.09.06                              영등포역인근맛집추천해주세요!!!!   \n",
       "107  2023.09.18                         영등포역맛집이고집쭈꾸미 여전히맛있어 최고야   \n",
       "108  2023.04.03                           꽃구경 코스로 좋은영등포역 맛집광부맥주   \n",
       "109  2023.04.05  영등포역한식식당배달전문 음식점 주방담당 및 보조 직원 & 포장 알바직원 구인합니다.   \n",
       "\n",
       "                                                    내용  \n",
       "105  그래서 퇴근하자마자 집 근처에 있는영등포역 맛집교촌치킨으로 직행했다. 저번에 테이크...  \n",
       "106                                 영등포역인근맛집추천해주세요!!!!  \n",
       "107  이고집쭈꾸미 본점 #영등포역맛집#영등포맛집 #이고집쭈꾸미 #영등포쭈꾸미 친구들이랑 ...  \n",
       "108  꽃구경 코스로 좋은영등포역 맛집광부맥주 주말에 집에있다가 날씨가 너무 좋아서 당장 ...  \n",
       "109  영등포역5분거리에 있는 한식배달식당에서 직원 및 포장 직원 구인합니다. ■ 주5일 ...  "
      ]
     },
     "execution_count": 52,
     "metadata": {},
     "output_type": "execute_result"
    }
   ],
   "source": [
    "df = pd.DataFrame(data)\n",
    "df.tail()"
   ]
  },
  {
   "cell_type": "code",
   "execution_count": null,
   "metadata": {},
   "outputs": [],
   "source": []
  }
 ],
 "metadata": {
  "kernelspec": {
   "display_name": "base",
   "language": "python",
   "name": "python3"
  },
  "language_info": {
   "codemirror_mode": {
    "name": "ipython",
    "version": 3
   },
   "file_extension": ".py",
   "mimetype": "text/x-python",
   "name": "python",
   "nbconvert_exporter": "python",
   "pygments_lexer": "ipython3",
   "version": "3.11.4"
  },
  "orig_nbformat": 4
 },
 "nbformat": 4,
 "nbformat_minor": 2
}
