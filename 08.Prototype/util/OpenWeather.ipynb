{
 "cells": [
  {
   "cell_type": "markdown",
   "metadata": {},
   "source": [
    "### OpenWeather API 2.5"
   ]
  },
  {
   "cell_type": "code",
   "execution_count": 22,
   "metadata": {},
   "outputs": [],
   "source": [
    "import requests"
   ]
  },
  {
   "cell_type": "code",
   "execution_count": 23,
   "metadata": {},
   "outputs": [],
   "source": [
    "with open('../static/keys/OpenWeatherApiKey.txt') as file:\n",
    "    weather_key = file.read()"
   ]
  },
  {
   "cell_type": "code",
   "execution_count": 24,
   "metadata": {},
   "outputs": [
    {
     "data": {
      "text/plain": [
       "{'lat': 37.526,\n",
       " 'lon': 126.8964,\n",
       " 'timezone': 'Asia/Seoul',\n",
       " 'timezone_offset': 32400,\n",
       " 'current': {'dt': 1695798251,\n",
       "  'sunrise': 1695763420,\n",
       "  'sunset': 1695806617,\n",
       "  'temp': 23.91,\n",
       "  'feels_like': 24.26,\n",
       "  'pressure': 1011,\n",
       "  'humidity': 73,\n",
       "  'dew_point': 18.78,\n",
       "  'uvi': 0.68,\n",
       "  'clouds': 71,\n",
       "  'visibility': 10000,\n",
       "  'wind_speed': 1.35,\n",
       "  'wind_deg': 268,\n",
       "  'wind_gust': 1.95,\n",
       "  'weather': [{'id': 803,\n",
       "    'main': 'Clouds',\n",
       "    'description': '튼구름',\n",
       "    'icon': '04d'}]},\n",
       " 'daily': [{'dt': 1695783600,\n",
       "   'sunrise': 1695763420,\n",
       "   'sunset': 1695806617,\n",
       "   'moonrise': 1695803160,\n",
       "   'moonset': 1695752220,\n",
       "   'moon_phase': 0.41,\n",
       "   'temp': {'day': 21.53,\n",
       "    'min': 19.47,\n",
       "    'max': 23.91,\n",
       "    'night': 20.9,\n",
       "    'eve': 23.35,\n",
       "    'morn': 19.48},\n",
       "   'feels_like': {'day': 21.96, 'night': 21.29, 'eve': 23.7, 'morn': 19.96},\n",
       "   'pressure': 1012,\n",
       "   'humidity': 85,\n",
       "   'dew_point': 18.9,\n",
       "   'wind_speed': 2.01,\n",
       "   'wind_deg': 266,\n",
       "   'wind_gust': 3.69,\n",
       "   'weather': [{'id': 501,\n",
       "     'main': 'Rain',\n",
       "     'description': '보통 비',\n",
       "     'icon': '10d'}],\n",
       "   'clouds': 94,\n",
       "   'pop': 0.59,\n",
       "   'rain': 4.59,\n",
       "   'uvi': 4.78},\n",
       "  {'dt': 1695870000,\n",
       "   'sunrise': 1695849871,\n",
       "   'sunset': 1695892924,\n",
       "   'moonrise': 1695891300,\n",
       "   'moonset': 1695843180,\n",
       "   'moon_phase': 0.45,\n",
       "   'temp': {'day': 25.53,\n",
       "    'min': 19.78,\n",
       "    'max': 26.49,\n",
       "    'night': 20.31,\n",
       "    'eve': 23.79,\n",
       "    'morn': 19.78},\n",
       "   'feels_like': {'day': 25.65, 'night': 19.73, 'eve': 23.84, 'morn': 20.22},\n",
       "   'pressure': 1014,\n",
       "   'humidity': 58,\n",
       "   'dew_point': 16.33,\n",
       "   'wind_speed': 4.61,\n",
       "   'wind_deg': 263,\n",
       "   'wind_gust': 6.73,\n",
       "   'weather': [{'id': 500,\n",
       "     'main': 'Rain',\n",
       "     'description': '실 비',\n",
       "     'icon': '10d'}],\n",
       "   'clouds': 0,\n",
       "   'pop': 0.28,\n",
       "   'rain': 0.57,\n",
       "   'uvi': 5.99},\n",
       "  {'dt': 1695956400,\n",
       "   'sunrise': 1695936322,\n",
       "   'sunset': 1695979232,\n",
       "   'moonrise': 1695979380,\n",
       "   'moonset': 1695934140,\n",
       "   'moon_phase': 0.5,\n",
       "   'temp': {'day': 24.27,\n",
       "    'min': 18.56,\n",
       "    'max': 25.28,\n",
       "    'night': 21.52,\n",
       "    'eve': 23.08,\n",
       "    'morn': 18.56},\n",
       "   'feels_like': {'day': 23.61, 'night': 20.95, 'eve': 22.49, 'morn': 17.88},\n",
       "   'pressure': 1015,\n",
       "   'humidity': 33,\n",
       "   'dew_point': 7.05,\n",
       "   'wind_speed': 3.69,\n",
       "   'wind_deg': 302,\n",
       "   'wind_gust': 4.41,\n",
       "   'weather': [{'id': 804,\n",
       "     'main': 'Clouds',\n",
       "     'description': '온흐림',\n",
       "     'icon': '04d'}],\n",
       "   'clouds': 100,\n",
       "   'pop': 0,\n",
       "   'uvi': 5.74},\n",
       "  {'dt': 1696042800,\n",
       "   'sunrise': 1696022773,\n",
       "   'sunset': 1696065539,\n",
       "   'moonrise': 1696067400,\n",
       "   'moonset': 1696024980,\n",
       "   'moon_phase': 0.53,\n",
       "   'temp': {'day': 24.6,\n",
       "    'min': 19.08,\n",
       "    'max': 24.6,\n",
       "    'night': 20.43,\n",
       "    'eve': 22.11,\n",
       "    'morn': 19.08},\n",
       "   'feels_like': {'day': 24.34, 'night': 20.33, 'eve': 22.02, 'morn': 18.43},\n",
       "   'pressure': 1012,\n",
       "   'humidity': 47,\n",
       "   'dew_point': 12.51,\n",
       "   'wind_speed': 5.87,\n",
       "   'wind_deg': 264,\n",
       "   'wind_gust': 7.36,\n",
       "   'weather': [{'id': 500,\n",
       "     'main': 'Rain',\n",
       "     'description': '실 비',\n",
       "     'icon': '10d'}],\n",
       "   'clouds': 37,\n",
       "   'pop': 0.24,\n",
       "   'rain': 0.12,\n",
       "   'uvi': 5.52},\n",
       "  {'dt': 1696129200,\n",
       "   'sunrise': 1696109224,\n",
       "   'sunset': 1696151847,\n",
       "   'moonrise': 1696155600,\n",
       "   'moonset': 1696115760,\n",
       "   'moon_phase': 0.56,\n",
       "   'temp': {'day': 21.51,\n",
       "    'min': 16.56,\n",
       "    'max': 22.52,\n",
       "    'night': 18.63,\n",
       "    'eve': 20.27,\n",
       "    'morn': 16.56},\n",
       "   'feels_like': {'day': 20.63, 'night': 17.65, 'eve': 19.34, 'morn': 15.84},\n",
       "   'pressure': 1014,\n",
       "   'humidity': 35,\n",
       "   'dew_point': 5.11,\n",
       "   'wind_speed': 6.69,\n",
       "   'wind_deg': 332,\n",
       "   'wind_gust': 9.66,\n",
       "   'weather': [{'id': 800,\n",
       "     'main': 'Clear',\n",
       "     'description': '맑음',\n",
       "     'icon': '01d'}],\n",
       "   'clouds': 0,\n",
       "   'pop': 0,\n",
       "   'uvi': 4.87},\n",
       "  {'dt': 1696215600,\n",
       "   'sunrise': 1696195676,\n",
       "   'sunset': 1696238155,\n",
       "   'moonrise': 1696243920,\n",
       "   'moonset': 1696206540,\n",
       "   'moon_phase': 0.6,\n",
       "   'temp': {'day': 21.59,\n",
       "    'min': 14.77,\n",
       "    'max': 22.89,\n",
       "    'night': 19.09,\n",
       "    'eve': 21.12,\n",
       "    'morn': 14.77},\n",
       "   'feels_like': {'day': 20.56, 'night': 18.13, 'eve': 20.12, 'morn': 13.74},\n",
       "   'pressure': 1017,\n",
       "   'humidity': 29,\n",
       "   'dew_point': 2.76,\n",
       "   'wind_speed': 3.22,\n",
       "   'wind_deg': 327,\n",
       "   'wind_gust': 5.19,\n",
       "   'weather': [{'id': 800,\n",
       "     'main': 'Clear',\n",
       "     'description': '맑음',\n",
       "     'icon': '01d'}],\n",
       "   'clouds': 0,\n",
       "   'pop': 0,\n",
       "   'uvi': 5},\n",
       "  {'dt': 1696302000,\n",
       "   'sunrise': 1696282127,\n",
       "   'sunset': 1696324464,\n",
       "   'moonrise': 1696332480,\n",
       "   'moonset': 1696297200,\n",
       "   'moon_phase': 0.64,\n",
       "   'temp': {'day': 21.48,\n",
       "    'min': 16.15,\n",
       "    'max': 21.48,\n",
       "    'night': 19.67,\n",
       "    'eve': 20.28,\n",
       "    'morn': 16.15},\n",
       "   'feels_like': {'day': 20.65, 'night': 18.87, 'eve': 19.36, 'morn': 15.23},\n",
       "   'pressure': 1019,\n",
       "   'humidity': 37,\n",
       "   'dew_point': 5.95,\n",
       "   'wind_speed': 1.94,\n",
       "   'wind_deg': 161,\n",
       "   'wind_gust': 3.97,\n",
       "   'weather': [{'id': 804,\n",
       "     'main': 'Clouds',\n",
       "     'description': '온흐림',\n",
       "     'icon': '04d'}],\n",
       "   'clouds': 100,\n",
       "   'pop': 0,\n",
       "   'uvi': 5},\n",
       "  {'dt': 1696388400,\n",
       "   'sunrise': 1696368580,\n",
       "   'sunset': 1696410773,\n",
       "   'moonrise': 1696421520,\n",
       "   'moonset': 1696387800,\n",
       "   'moon_phase': 0.67,\n",
       "   'temp': {'day': 20.28,\n",
       "    'min': 16.71,\n",
       "    'max': 21.49,\n",
       "    'night': 16.71,\n",
       "    'eve': 18.8,\n",
       "    'morn': 18.68},\n",
       "   'feels_like': {'day': 20.37, 'night': 15.74, 'eve': 18.2, 'morn': 18.41},\n",
       "   'pressure': 1012,\n",
       "   'humidity': 77,\n",
       "   'dew_point': 15.94,\n",
       "   'wind_speed': 6.87,\n",
       "   'wind_deg': 257,\n",
       "   'wind_gust': 10.83,\n",
       "   'weather': [{'id': 500,\n",
       "     'main': 'Rain',\n",
       "     'description': '실 비',\n",
       "     'icon': '10d'}],\n",
       "   'clouds': 100,\n",
       "   'pop': 0.99,\n",
       "   'rain': 2.64,\n",
       "   'uvi': 5}]}"
      ]
     },
     "execution_count": 24,
     "metadata": {},
     "output_type": "execute_result"
    }
   ],
   "source": [
    "base_url = 'https://api.openweathermap.org/data/2.5/onecall'\n",
    "lat, lng = 37.5260, 126.8964\n",
    "url = f'{base_url}?lat={lat}&lon={lng}&appid={weather_key}&units=metric&lang=kr&exclude=minutely,hourly'\n",
    "result = requests.get(url).json()\n",
    "result"
   ]
  },
  {
   "cell_type": "code",
   "execution_count": 25,
   "metadata": {},
   "outputs": [
    {
     "data": {
      "text/plain": [
       "('튼구름', 23.91)"
      ]
     },
     "execution_count": 25,
     "metadata": {},
     "output_type": "execute_result"
    }
   ],
   "source": [
    "desc = result['current']['weather'][0]['description']\n",
    "temp = result['current']['temp']\n",
    "desc, temp"
   ]
  },
  {
   "cell_type": "code",
   "execution_count": 26,
   "metadata": {},
   "outputs": [],
   "source": [
    "icon_code = result['current']['weather'][0]['icon']\n",
    "icon_url = f'http://openweathermap.org/img/wn/{icon_code}.png'"
   ]
  },
  {
   "cell_type": "code",
   "execution_count": 27,
   "metadata": {},
   "outputs": [
    {
     "data": {
      "image/png": "[encoded data removed]",
      "text/plain": [
       "<Figure size 640x480 with 1 Axes>"
      ]
     },
     "metadata": {},
     "output_type": "display_data"
    }
   ],
   "source": [
    "import urllib.request\n",
    "from PIL import Image\n",
    "import matplotlib.pyplot as plt\n",
    "urllib.request.urlretrieve(icon_url, '../static/img/icon.png')\n",
    "img = Image.open('../static/img/icon.png')\n",
    "plt.imshow(img)\n",
    "plt.axis('off');"
   ]
  },
  {
   "cell_type": "code",
   "execution_count": 28,
   "metadata": {},
   "outputs": [
    {
     "data": {
      "text/plain": [
       "'<img src=\"http://openweathermap.org/img/wn/04d.png\" height=\"32\"><strong>튼구름</strong>,\\n        온도: <strong>23.9</strong>&#8451'"
      ]
     },
     "execution_count": 28,
     "metadata": {},
     "output_type": "execute_result"
    }
   ],
   "source": [
    "html = f'''<img src=\"{icon_url}\" height=\"32\"><strong>{desc}</strong>,\n",
    "        온도: <strong>{temp:.1f}</strong>&#8451'''\n",
    "html"
   ]
  },
  {
   "cell_type": "code",
   "execution_count": null,
   "metadata": {},
   "outputs": [],
   "source": []
  }
 ],
 "metadata": {
  "kernelspec": {
   "display_name": "base",
   "language": "python",
   "name": "python3"
  },
  "language_info": {
   "codemirror_mode": {
    "name": "ipython",
    "version": 3
   },
   "file_extension": ".py",
   "mimetype": "text/x-python",
   "name": "python",
   "nbconvert_exporter": "python",
   "pygments_lexer": "ipython3",
   "version": "3.11.4"
  },
  "orig_nbformat": 4
 },
 "nbformat": 4,
 "nbformat_minor": 2
}
