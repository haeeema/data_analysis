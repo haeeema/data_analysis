{
 "cells": [
  {
   "cell_type": "markdown",
   "metadata": {},
   "source": [
    "### SQLite3 활용"
   ]
  },
  {
   "cell_type": "code",
   "execution_count": 1,
   "metadata": {},
   "outputs": [],
   "source": [
    "import sqlite3 as sq"
   ]
  },
  {
   "cell_type": "markdown",
   "metadata": {},
   "source": [
    "- DB에 접속해서 데이터 읽기"
   ]
  },
  {
   "cell_type": "code",
   "execution_count": 2,
   "metadata": {},
   "outputs": [],
   "source": [
    "# member table에 있는 데이터 모두 읽기\n",
    "conn = sq.connect('test.db') # connection\n",
    "cur = conn.cursor()\n",
    "\n",
    "sql = 'select * from member'\n",
    "cur.execute(sql)\n",
    "rows = cur.fetchall()\n",
    "\n",
    "cur.close()\n",
    "conn.close()"
   ]
  },
  {
   "cell_type": "code",
   "execution_count": 3,
   "metadata": {},
   "outputs": [
    {
     "name": "stdout",
     "output_type": "stream",
     "text": [
      "(1, 'james', 25)\n",
      "(2, 'maria', 23)\n",
      "(3, 'tommy', 19)\n",
      "(4, 'emma', 27)\n",
      "(9, 'cha', 51)\n"
     ]
    }
   ],
   "source": [
    "for row in rows:\n",
    "    print(row)"
   ]
  },
  {
   "cell_type": "code",
   "execution_count": 4,
   "metadata": {},
   "outputs": [
    {
     "name": "stdout",
     "output_type": "stream",
     "text": [
      "(2, 'maria', 23)\n",
      "(3, 'tommy', 19)\n"
     ]
    }
   ],
   "source": [
    "# 24세 미만 member 가져오기\n",
    "conn = sq.connect('test.db') # connection\n",
    "cur = conn.cursor()\n",
    "\n",
    "sql = 'select * from member where age < 24'\n",
    "cur.execute(sql)\n",
    "rows = cur.fetchall()\n",
    "\n",
    "cur.close()\n",
    "conn.close()\n",
    "\n",
    "for row in rows:\n",
    "    print(row)"
   ]
  },
  {
   "cell_type": "code",
   "execution_count": 5,
   "metadata": {},
   "outputs": [],
   "source": [
    "# ? 세 미만의 member 가져오기\n",
    "def get_members_under_age(age):\n",
    "    conn = sq.connect('test.db') # make connection\n",
    "    cur = conn.cursor()\n",
    "\n",
    "    sql = 'select * from member where age < ?'\n",
    "    cur.execute(sql, (age, ))   # paratemer: (age, ), tuple\n",
    "    rows = cur.fetchall()\n",
    "\n",
    "    cur.close()\n",
    "    conn.close()\n",
    "    return rows"
   ]
  },
  {
   "cell_type": "code",
   "execution_count": 6,
   "metadata": {},
   "outputs": [
    {
     "name": "stdout",
     "output_type": "stream",
     "text": [
      "(2, 'maria', 23)\n",
      "(3, 'tommy', 19)\n"
     ]
    }
   ],
   "source": [
    "results = get_members_under_age(24)\n",
    "for row in results:\n",
    "    print(row)"
   ]
  },
  {
   "cell_type": "code",
   "execution_count": 7,
   "metadata": {},
   "outputs": [],
   "source": [
    "# 종문씨\n",
    "def get_members_under_age2(age):\n",
    "    conn = sq.connect('test.db') # make connection\n",
    "    cur = conn.cursor()\n",
    "\n",
    "    sql = f'select * from member where age < {age}'\n",
    "    cur.execute(sql)   # paratemer: (age, ), tuple\n",
    "    rows = cur.fetchall()\n",
    "\n",
    "    cur.close()\n",
    "    conn.close()\n",
    "    return rows"
   ]
  },
  {
   "cell_type": "code",
   "execution_count": 8,
   "metadata": {},
   "outputs": [
    {
     "name": "stdout",
     "output_type": "stream",
     "text": [
      "(3, 'tommy', 19)\n"
     ]
    }
   ],
   "source": [
    "results = get_members_under_age2(20)\n",
    "for row in results:\n",
    "    print(row)"
   ]
  },
  {
   "cell_type": "code",
   "execution_count": 9,
   "metadata": {},
   "outputs": [],
   "source": [
    "# mid에 해당하는 데이터 한 건 가져오기\n",
    "def get_member_by_mid(mid):\n",
    "    conn = sq.connect('test.db')\n",
    "    cur = conn.cursor()\n",
    "\n",
    "    sql = 'select * from member where mid = ?'\n",
    "    cur.execute(sql, (mid, ))\n",
    "    row = cur.fetchone()    # 한 건만 가져오기\n",
    "\n",
    "    cur.close()\n",
    "    conn.close()\n",
    "    return row"
   ]
  },
  {
   "cell_type": "code",
   "execution_count": 10,
   "metadata": {},
   "outputs": [
    {
     "name": "stdout",
     "output_type": "stream",
     "text": [
      "(1, 'james', 25)\n"
     ]
    }
   ],
   "source": [
    "result = get_member_by_mid(1)\n",
    "print(result)"
   ]
  },
  {
   "cell_type": "markdown",
   "metadata": {},
   "source": [
    "- 데이터 추가하기"
   ]
  },
  {
   "cell_type": "code",
   "execution_count": 11,
   "metadata": {},
   "outputs": [],
   "source": [
    "conn = sq.connect('test.db')\n",
    "cur = conn.cursor()\n",
    "\n",
    "sql = 'insert into member(name, age) values (?, ?)'\n",
    "cur.execute(sql, ('차정숙', 49))\n",
    "conn.commit()   # DB 내용이 변경되는 경우에는 반드시 commit을 해야 함\n",
    "\n",
    "cur.close()\n",
    "conn.close()"
   ]
  },
  {
   "cell_type": "code",
   "execution_count": 12,
   "metadata": {},
   "outputs": [
    {
     "name": "stdout",
     "output_type": "stream",
     "text": [
      "(9, 'cha', 51)\n"
     ]
    }
   ],
   "source": [
    "result = get_member_by_mid(9)\n",
    "print(result)"
   ]
  },
  {
   "cell_type": "markdown",
   "metadata": {},
   "source": [
    "- 데이터 수정"
   ]
  },
  {
   "cell_type": "code",
   "execution_count": 13,
   "metadata": {},
   "outputs": [],
   "source": [
    "def update_member(params):\n",
    "    conn = sq.connect('test.db')\n",
    "    cur = conn.cursor()\n",
    "\n",
    "    sql = 'update member set name = ?, age = ? where mid = ?'\n",
    "    cur.execute(sql, params)    # params: tuple\n",
    "    conn.commit()   # DB 내용이 변경되는 경우에는 반드시 commit을 해야 함\n",
    "\n",
    "    cur.close()\n",
    "    conn.close()"
   ]
  },
  {
   "cell_type": "code",
   "execution_count": 14,
   "metadata": {},
   "outputs": [
    {
     "name": "stdout",
     "output_type": "stream",
     "text": [
      "(9, 'cha', 51)\n"
     ]
    }
   ],
   "source": [
    "params = ('cha', 51, 9)\n",
    "update_member(params)\n",
    "\n",
    "result = get_member_by_mid(9)\n",
    "print(result)"
   ]
  }
 ],
 "metadata": {
  "kernelspec": {
   "display_name": "base",
   "language": "python",
   "name": "python3"
  },
  "language_info": {
   "codemirror_mode": {
    "name": "ipython",
    "version": 3
   },
   "file_extension": ".py",
   "mimetype": "text/x-python",
   "name": "python",
   "nbconvert_exporter": "python",
   "pygments_lexer": "ipython3",
   "version": "3.11.4"
  },
  "orig_nbformat": 4
 },
 "nbformat": 4,
 "nbformat_minor": 2
}
